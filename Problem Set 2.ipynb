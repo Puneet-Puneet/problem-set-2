{
 "cells": [
  {
   "cell_type": "markdown",
   "id": "206b0b12",
   "metadata": {},
   "source": [
    "# Question = 1\n",
    "\n",
    "Consider the following Python module:  \n",
    "a = 0   \n",
    "def b():  \n",
    "global a  \n",
    "a = c(a)  \n",
    "def c(a):  \n",
    "return a + 2  \n",
    "After importing the module into the interpreter, you execute:  \n",
    "    >>> b()  \n",
    "    >>> b()  \n",
    "    >>> b()  \n",
    "    >>> a  \n",
    "?  \n",
    "\n",
    "What value is displayed when the last expression (a) is evaluated? Explain your answer by indicating what happens in every executed statement.  "
   ]
  },
  {
   "cell_type": "code",
   "execution_count": null,
   "id": "c9c9d0ed",
   "metadata": {},
   "outputs": [],
   "source": [
    "Upon evaluating the final expression 'a', the displayed value will be 6. This outcome can be clarified by examining the sequence of executed statements:\n",
    "\n",
    "1. During the first call to the 'b()' function:\n",
    "\n",
    "The variable 'a' is defined as a global variable and initialized to 0.\n",
    "The function 'c(a)' is invoked with 'a' as an argument.\n",
    "Inside 'c(a)', the argument 'a' (which has a value of 0) is incremented by 2, resulting in 2.\n",
    "The value 2 is returned and assigned to the global variable 'a'.\n",
    "For the second call to the 'b()' function:\n",
    "\n",
    "2. The global variable 'a' now holds the value 2 (from the previous execution of 'b()').\n",
    "The function 'c(a)' is invoked with 'a' as an argument.\n",
    "Inside 'c(a)', the argument 'a' (which has a value of 2) is incremented by 2, resulting in 4.\n",
    "The value 4 is returned and assigned to the global variable 'a'.\n",
    "During the third call to the 'b()' function:\n",
    "\n",
    "3. The global variable 'a' now holds the value 4 (from the previous execution of 'b()').\n",
    "The function 'c(a)' is invoked with 'a' as an argument.\n",
    "Inside 'c(a)', the argument 'a' (which has a value of 4) is incremented by 2, resulting in 6.\n",
    "The value 6 is returned and assigned to the global variable 'a'.\n",
    "\n",
    "4. Consequently, when evaluating the last expression 'a', the global variable 'a' holds a value of 6 (from the previous execution of 'b()'). Hence, the output will be 6."
   ]
  },
  {
   "cell_type": "markdown",
   "id": "8cbc01af",
   "metadata": {},
   "source": [
    "# Question=2\n",
    "\n",
    "Function fileLength(), given to you, takes the name of a file as input and returns the length of the file:  \n",
    "    >>> fileLength('midterm.py')   \n",
    "284  \n",
    "    >>> fileLength('idterm.py')     \n",
    "Traceback (most recent call last):  \n",
    "File \"<pyshell#34>\", line 1, in < module >   \n",
    "fileLength('idterm.py')  \n",
    "File \"/Users/me/midterm.py\", line 3, in fileLength   \n",
    "infile = open(filename)  \n",
    "FileNotFoundError: [Errno 2] No such file or directory:   \n",
    "'idterm.py'  \n",
    "As shown above, if the file cannot be found by the interpreter or if it cannot be read as a text file, an exception will be raised. Modify function fileLength() so that a friendly message is printed instead:  \n",
    "    >>> fileLength('midterm.py')   \n",
    "358  \n",
    "    >>> fileLength('idterm.py')   \n",
    "File idterm.py not found.  \n"
   ]
  },
  {
   "cell_type": "code",
   "execution_count": 16,
   "id": "b927d173",
   "metadata": {},
   "outputs": [],
   "source": [
    "def fileLength(filename):\n",
    "    try:\n",
    "        infile = open(filename, 'r')\n",
    "        content = infile.read()\n",
    "        infile.close()\n",
    "        return len(content)\n",
    "    except FileNotFoundError:\n",
    "        print(f\"File {filename} not found.\")\n",
    "        return -1\n",
    "    except Exception as e:\n",
    "        print(f\"An error occured: {e}\")\n",
    "        return -1"
   ]
  },
  {
   "cell_type": "code",
   "execution_count": 19,
   "id": "81f86759",
   "metadata": {},
   "outputs": [
    {
     "data": {
      "text/plain": [
       "123"
      ]
     },
     "execution_count": 19,
     "metadata": {},
     "output_type": "execute_result"
    }
   ],
   "source": [
    "fileLength('C:/Users/punee/anaconda3/Scripts/filelength.txt')"
   ]
  },
  {
   "cell_type": "code",
   "execution_count": 20,
   "id": "5dd202d2",
   "metadata": {},
   "outputs": [
    {
     "name": "stdout",
     "output_type": "stream",
     "text": [
      "File C:/Users/punee/anaconda3/Scripts/idterm.txt not found.\n"
     ]
    },
    {
     "data": {
      "text/plain": [
       "-1"
      ]
     },
     "execution_count": 20,
     "metadata": {},
     "output_type": "execute_result"
    }
   ],
   "source": [
    "fileLength('C:/Users/punee/anaconda3/Scripts/idterm.txt')"
   ]
  },
  {
   "cell_type": "markdown",
   "id": "e7541da7",
   "metadata": {},
   "source": [
    "# Question=3\n",
    "\n",
    "Write a class named Marsupial that can be used as shown below:  \n",
    "    >>> m = Marsupial()  \n",
    "    >>> m.put_in_pouch('doll')  \n",
    "    >>> m.put_in_pouch('firetruck')  \n",
    "    >>> m.put_in_pouch('kitten')  \n",
    "    >>> m.pouch_contents()   \n",
    "['doll', 'firetruck', 'kitten']  \n",
    "Now write a class named Kangaroo as a subclass of Marsupial that inherits all the attributes of Marsupial and also:  \n",
    "a. extends the Marsupial __init__ constructor to take, as input, the coordinates x and y of the Kangaroo object,  \n",
    "b. supports method jump that takes number values dx and dy as input and movesthe kangaroo by dx units along the x-axis and by dy units along the y\u0002axis, and  \n",
    "c. overloads the __str__ operator so it behaves as shown below.  \n",
    "    >>> k = Kangaroo(0,0)  \n",
    "    >>> print(k)  \n",
    "I am a Kangaroo located at coordinates (0,0)  \n",
    "    >>> k.put_in_pouch('doll')  \n",
    "    >>> k.put_in_pouch('firetruck')  \n",
    "    >>> k.put_in_pouch('kitten')  \n",
    "    >>> k.pouch_contents()   \n",
    "['doll', 'firetruck', 'kitten']    \n",
    "    >>> k.jump(1,0)  \n",
    "    >>> k.jump(1,0)  \n",
    "    >>> k.jump(1,0)  \n",
    "    >>> print(k)  \n",
    "I am a Kangaroo located at coordinates (3,0)  "
   ]
  },
  {
   "cell_type": "code",
   "execution_count": 12,
   "id": "5706845a",
   "metadata": {},
   "outputs": [],
   "source": [
    "class Marsupial:\n",
    "    def __init__(self):\n",
    "        self.pouch_list = []\n",
    "    \n",
    "    def put_in_pouch(self, item):\n",
    "        self.pouch_list.append(item)\n",
    "    \n",
    "    def pouch_contents(self):\n",
    "        return self.pouch_list\n",
    "\n",
    "\n",
    "class Kangaroo(Marsupial):\n",
    "    def __init__(self, initial_x, initial_y):\n",
    "        super().__init__()\n",
    "        self.x_coord = initial_x\n",
    "        self.y_coord = initial_y\n",
    "    \n",
    "    def jump(self, dx, dy):\n",
    "        self.x_coord += dx\n",
    "        self.y_coord += dy\n",
    "    \n",
    "    def __str__(self):\n",
    "        return f\"I am a Kangaroo located at coordinates ({self.x_coord},{self.y_coord})\"\n"
   ]
  },
  {
   "cell_type": "code",
   "execution_count": 13,
   "id": "e444a207",
   "metadata": {},
   "outputs": [
    {
     "name": "stdout",
     "output_type": "stream",
     "text": [
      "['doll', 'firetruck', 'kitten']\n",
      "I am a Kangaroo located at coordinates (0,0)\n",
      "['doll', 'firetruck', 'kitten']\n",
      "I am a Kangaroo located at coordinates (3,0)\n"
     ]
    }
   ],
   "source": [
    "m = Marsupial()\n",
    "m.put_in_pouch('doll')\n",
    "m.put_in_pouch('firetruck')\n",
    "m.put_in_pouch('kitten')\n",
    "print(m.pouch_contents())  \n",
    "\n",
    "k = Kangaroo(0, 0)\n",
    "print(k)  \n",
    "\n",
    "k.put_in_pouch('doll')\n",
    "k.put_in_pouch('firetruck')\n",
    "k.put_in_pouch('kitten')\n",
    "print(k.pouch_contents())  \n",
    "\n",
    "k.jump(1, 0)\n",
    "k.jump(1, 0)\n",
    "k.jump(1, 0)\n",
    "print(k)  "
   ]
  },
  {
   "cell_type": "markdown",
   "id": "2dddb184",
   "metadata": {},
   "source": [
    "# Question=4\n",
    "\n",
    "Write function collatz() that takes a positive integer x as input and prints the Collatz sequence starting at x. A Collatz sequence is obtained by repeatedly applying this rule to the previous number x in the sequence:  \n",
    "x = {  𝑥/2 𝑖𝑓 𝑥 𝑖𝑠 𝑒𝑣𝑒𝑛3𝑥  \n",
    "       +1 𝑖𝑓 𝑥 𝑖𝑠 𝑜𝑑𝑑  \n",
    "Your function should stop when the sequence gets to number 1. Your implementation must be recursive, without any loops  \n",
    "    >>> collatz(1)   \n",
    "1  \n",
    "    >>> collatz(10)   \n",
    "10  \n",
    "5  \n",
    "16  \n",
    "8  \n",
    "4  \n",
    "2  \n",
    "1  "
   ]
  },
  {
   "cell_type": "code",
   "execution_count": 9,
   "id": "f0ac4681",
   "metadata": {},
   "outputs": [
    {
     "name": "stdout",
     "output_type": "stream",
     "text": [
      "1\n",
      "10\n",
      "5\n",
      "16\n",
      "8\n",
      "4\n",
      "2\n",
      "1\n"
     ]
    }
   ],
   "source": [
    "def collatz(w):\n",
    "    print(w)\n",
    "\n",
    "    # Base case: stop when w becomes 1\n",
    "    if w == 1:\n",
    "        return\n",
    "\n",
    "    # Recursive cases:\n",
    "    if w % 2 == 0:\n",
    "        collatz(w // 2)  # If w is even, divide it by 2\n",
    "    else:\n",
    "        collatz(3 * w + 1)  # If w is odd, apply the formula 3w + 1\n",
    "\n",
    "# Example usage:\n",
    "collatz(1)\n",
    "collatz(10)\n"
   ]
  },
  {
   "cell_type": "markdown",
   "id": "53e81cd9",
   "metadata": {},
   "source": [
    "# Question=5\n",
    "\n",
    "Write a recursive method binary() that takes a non-negative integer n and prints the binary representation of integer n.  \n",
    "    >>> binary(0)  \n",
    "0  \n",
    "    >>> binary(1)  \n",
    "1  \n",
    "    >>> binary(3)   \n",
    "11    \n",
    "    >>> binary(9)   \n",
    "1001  \n"
   ]
  },
  {
   "cell_type": "code",
   "execution_count": 3,
   "id": "9e1a2da5",
   "metadata": {},
   "outputs": [],
   "source": [
    "def binary(n):\n",
    "    if n < 2:\n",
    "        print(n, end='')\n",
    "    else:\n",
    "        binary(n // 2)\n",
    "        print(n % 2, end='')"
   ]
  },
  {
   "cell_type": "code",
   "execution_count": 4,
   "id": "f21a2ef2",
   "metadata": {},
   "outputs": [
    {
     "name": "stdout",
     "output_type": "stream",
     "text": [
      "0"
     ]
    }
   ],
   "source": [
    "binary(0)"
   ]
  },
  {
   "cell_type": "code",
   "execution_count": 5,
   "id": "ec676ed7",
   "metadata": {},
   "outputs": [
    {
     "name": "stdout",
     "output_type": "stream",
     "text": [
      "1"
     ]
    }
   ],
   "source": [
    "binary(1)"
   ]
  },
  {
   "cell_type": "code",
   "execution_count": 6,
   "id": "86269c8a",
   "metadata": {},
   "outputs": [
    {
     "name": "stdout",
     "output_type": "stream",
     "text": [
      "11"
     ]
    }
   ],
   "source": [
    "binary(3)"
   ]
  },
  {
   "cell_type": "code",
   "execution_count": 7,
   "id": "f43741c4",
   "metadata": {},
   "outputs": [
    {
     "name": "stdout",
     "output_type": "stream",
     "text": [
      "1001"
     ]
    }
   ],
   "source": [
    "binary(9)"
   ]
  },
  {
   "cell_type": "markdown",
   "id": "811d8ea7",
   "metadata": {},
   "source": [
    "# Question 6\n",
    "\n",
    "\n",
    "Implement a class named HeadingParser that can be used to parse an HTML document, and retrieve and print all the headings in the document. You should implement your class as a subclass of HTMLParser, defined in Standard Library module html.parser. When fed a string containing HTML code, your class should print the headings, one per line and in the order in which they appear in the \n",
    "document.Each heading should be indented asfollows: an h1 heading should haveindentation 0, and h2 heading should have indentation 1, etc. Test your implementation using w3c.html.  \n",
    "    >>> infile = open('w3c.html')  \n",
    "    >>> content = infile.read()  \n",
    "    >>> infile.close()  \n",
    "    >>> hp = HeadingParser()  \n",
    "    >>> hp.feed(content)   \n",
    "W3C Mission   \n",
    "Principles  \n"
   ]
  },
  {
   "cell_type": "code",
   "execution_count": 8,
   "id": "1e55d014",
   "metadata": {},
   "outputs": [],
   "source": [
    "from html.parser import HTMLParser\n",
    "\n",
    "\n",
    "class HeadingParser(HTMLParser):\n",
    "    def __init__(self):\n",
    "        super().__init__()\n",
    "        self.current_indentation = 0\n",
    "        self.is_inside_heading = False\n",
    "    \n",
    "    def handle_starttag(self, tag, attrs):\n",
    "        if tag.startswith('h') and len(tag) == 2 and tag[1].isdigit():\n",
    "            self.is_inside_heading = True\n",
    "            self.current_indentation = int(tag[1]) - 1\n",
    "    \n",
    "    def handle_endtag(self, tag):\n",
    "        if tag.startswith('h') and len(tag) == 2 and tag[1].isdigit():\n",
    "            self.is_inside_heading = False\n",
    "    \n",
    "    def handle_data(self, data):\n",
    "        if self.is_inside_heading:\n",
    "            print(' ' * self.current_indentation + data.strip())\n"
   ]
  },
  {
   "cell_type": "code",
   "execution_count": 11,
   "id": "ae80f922",
   "metadata": {},
   "outputs": [
    {
     "name": "stdout",
     "output_type": "stream",
     "text": [
      "W3C Mission\n",
      " Principles\n"
     ]
    }
   ],
   "source": [
    "infile = open('C:/Users/punee/anaconda3/Scripts/w3c.html')\n",
    "content = infile.read()\n",
    "infile.close()\n",
    "\n",
    "hp = HeadingParser()\n",
    "hp.feed(content)"
   ]
  },
  {
   "cell_type": "markdown",
   "id": "93125940",
   "metadata": {},
   "source": [
    "# Question 7\n",
    "\n",
    "Implement recursive function webdir() that takes as input: a URL (as a string) and non-negative integers depth and indent. Your function should visit every web page reachable from the starting URL web page in depth clicks or less, and print each web page's URL. As shown below, indentation, specified by indent, should be used to indicate the depth of a URL.  \n",
    "    >>>  \n",
    "webdir('http://reed.cs.depaul.edu/lperkovic/csc242/test1.html'  \n",
    ", 2, 0)    \n",
    "http://reed.cs.depaul.edu/lperkovic/csc242/test1.html  \n",
    "http://reed.cs.depaul.edu/lperkovic/csc242/test2.html  \n",
    "http://reed.cs.depaul.edu/lperkovic/csc242/test4.html  \n",
    "http://reed.cs.depaul.edu/lperkovic/csc242/test3.html  \n",
    "http://reed.cs.depaul.edu/lperkovic/csc242/test4.html  "
   ]
  },
  {
   "cell_type": "code",
   "execution_count": 33,
   "id": "f35731c7",
   "metadata": {},
   "outputs": [
    {
     "name": "stdout",
     "output_type": "stream",
     "text": [
      "http://reed.cs.depaul.edu/lperkovic/csc242/test1.html\n"
     ]
    }
   ],
   "source": [
    "import requests\n",
    "from bs4 import BeautifulSoup\n",
    "\n",
    "def webdir(start_url, depth, indent=0):\n",
    "    if depth < 0:\n",
    "        return\n",
    "\n",
    "    try:\n",
    "        response = requests.get(start_url)\n",
    "        soup = BeautifulSoup(response.content, 'html.parser')\n",
    "\n",
    "        print('  ' * indent + start_url)\n",
    "\n",
    "        if depth > 0:\n",
    "            links = soup.find_all('a', href=True)\n",
    "            for link in links:\n",
    "                next_url = link['href']\n",
    "                if next_url.startswith('http'):\n",
    "                    webdir(next_url, depth - 1, indent + 1)\n",
    "\n",
    "    except requests.exceptions.RequestException as e:\n",
    "        print('  ' * indent + f\"Error: {e}\")\n",
    "        return\n",
    "\n",
    "# Test the function\n",
    "webdir('http://reed.cs.depaul.edu/lperkovic/csc242/test1.html', 2, 0)"
   ]
  },
  {
   "cell_type": "markdown",
   "id": "0e01adb7",
   "metadata": {},
   "source": [
    "# Question 8\n",
    "\n",
    "Write SQL queries on the below database table that return:  \n",
    "a) All the temperature data.  \n",
    "b) All the cities, but without repetition.  \n",
    "c) All the records for India.  \n",
    "d) All the Fall records.  \n",
    "e) The city, country, and season for which the average rainfall is between 200 and 400 millimeters.  \n",
    "f) The city and country for which the average Fall temperature is above 20 degrees, in increasing temperature order.  \n",
    "g) The total annual rainfall for Cairo.  \n",
    "h) The total rainfall for each season.  \n",
    "City   Country         Season  Temperature (C) Rainfall (mm)  \n",
    "Mumbai India           Winter  24.8 5.9  \n",
    "Mumbai India           Spring  28.4 16.2  \n",
    "Mumbai India           Summer  27.9 1549.4  \n",
    "Mumbai India           Fall    27.6 346.0  \n",
    "London United Kingdom  Winter 4.2 207.7  \n",
    "London United Kingdom Spring 8.3 169.6  \n",
    "London United Kingdom Summer 15.7 157.0  \n",
    "London United Kingdom Fall 10.4 218.5  \n",
    "Cairo  Egypt    Winter 13.6 16.5  \n",
    "Cairo  Egypt    Spring 20.7 6.5  \n",
    "Cairo  Egypt    Summer 27.7 0.1   \n",
    "Cairo  Egypt    Fall 22.2 4.5  "
   ]
  },
  {
   "cell_type": "code",
   "execution_count": 39,
   "id": "2d415295",
   "metadata": {},
   "outputs": [
    {
     "name": "stdout",
     "output_type": "stream",
     "text": [
      "[(24.8,), (28.4,), (27.9,), (27.6,), (4.2,), (8.3,), (15.7,), (10.4,), (13.6,), (20.7,), (27.7,), (22.2,)]\n",
      "[('Mumbai',), ('London',), ('Cairo',)]\n",
      "[('Mumbai', 'India', 'Winter', 24.8, 5.9), ('Mumbai', 'India', 'Spring', 28.4, 16.2), ('Mumbai', 'India', 'Summer', 27.9, 1549.4), ('Mumbai', 'India', 'Fall', 27.6, 346.0)]\n",
      "[('Mumbai', 'India', 'Fall', 27.6, 346.0), ('London', 'United Kingdom', 'Fall', 10.4, 218.5), ('Cairo', 'Egypt', 'Fall', 22.2, 4.5)]\n",
      "[('London', 'United Kingdom', 'Fall'), ('London', 'United Kingdom', 'Winter'), ('Mumbai', 'India', 'Fall')]\n",
      "[('Cairo', 'Egypt'), ('Mumbai', 'India')]\n",
      "27.6\n",
      "[('Fall', 569.0), ('Spring', 192.29999999999998), ('Summer', 1706.5), ('Winter', 230.1)]\n"
     ]
    }
   ],
   "source": [
    "import sqlite3\n",
    "\n",
    "# Create an in-memory SQLite database\n",
    "db_connection = sqlite3.connect(':memory:')\n",
    "cursor = db_connection.cursor()\n",
    "\n",
    "# Create the table\n",
    "cursor.execute('''\n",
    "    CREATE TABLE Weather (\n",
    "        City TEXT,\n",
    "        Country TEXT,\n",
    "        Season TEXT,\n",
    "        Temperature REAL,\n",
    "        Rainfall REAL\n",
    "    )\n",
    "''')\n",
    "\n",
    "# Insert data into the table\n",
    "data = [\n",
    "    ('Mumbai', 'India', 'Winter', 24.8, 5.9),\n",
    "    ('Mumbai', 'India', 'Spring', 28.4, 16.2),\n",
    "    ('Mumbai', 'India', 'Summer', 27.9, 1549.4),\n",
    "    ('Mumbai', 'India', 'Fall', 27.6, 346.0),\n",
    "    ('London', 'United Kingdom', 'Winter', 4.2, 207.7),\n",
    "    ('London', 'United Kingdom', 'Spring', 8.3, 169.6),\n",
    "    ('London', 'United Kingdom', 'Summer', 15.7, 157.0),\n",
    "    ('London', 'United Kingdom', 'Fall', 10.4, 218.5),\n",
    "    ('Cairo', 'Egypt', 'Winter', 13.6, 16.5),\n",
    "    ('Cairo', 'Egypt', 'Spring', 20.7, 6.5),\n",
    "    ('Cairo', 'Egypt', 'Summer', 27.7, 0.1),\n",
    "    ('Cairo', 'Egypt', 'Fall', 22.2, 4.5)\n",
    "]\n",
    "\n",
    "cursor.executemany('INSERT INTO Weather VALUES (?, ?, ?, ?, ?)', data)\n",
    "db_connection.commit()\n",
    "\n",
    "# a) All the temperature data\n",
    "cursor.execute('SELECT Temperature FROM Weather')\n",
    "print(cursor.fetchall())\n",
    "\n",
    "# b) All the cities, but without repetition\n",
    "cursor.execute('SELECT DISTINCT City FROM Weather')\n",
    "print(cursor.fetchall())\n",
    "\n",
    "# c) All the records for India\n",
    "cursor.execute('SELECT * FROM Weather WHERE Country = \"India\"')\n",
    "print(cursor.fetchall())\n",
    "\n",
    "# d) All the Fall records\n",
    "cursor.execute('SELECT * FROM Weather WHERE Season = \"Fall\"')\n",
    "print(cursor.fetchall())\n",
    "\n",
    "# e) The city, country, and season for which the average rainfall is between 200 and 400 millimeters\n",
    "cursor.execute('''\n",
    "    SELECT City, Country, Season\n",
    "    FROM Weather\n",
    "    GROUP BY City, Country, Season\n",
    "    HAVING AVG(Rainfall) BETWEEN 200 AND 400\n",
    "''')\n",
    "print(cursor.fetchall())\n",
    "\n",
    "# f) The city and country for which the average Fall temperature is above 20 degrees, in increasing temperature order\n",
    "cursor.execute('''\n",
    "    SELECT City, Country\n",
    "    FROM Weather\n",
    "    WHERE Season = \"Fall\"\n",
    "    GROUP BY City, Country\n",
    "    HAVING AVG(Temperature) > 20\n",
    "    ORDER BY AVG(Temperature) ASC\n",
    "''')\n",
    "print(cursor.fetchall())\n",
    "\n",
    "# g) The total annual rainfall for Cairo\n",
    "cursor.execute('SELECT SUM(Rainfall) FROM Weather WHERE City = \"Cairo\"')\n",
    "print(cursor.fetchone()[0])\n",
    "\n",
    "# h) The total rainfall for each season\n",
    "cursor.execute('SELECT Season, SUM(Rainfall) FROM Weather GROUP BY Season')\n",
    "print(cursor.fetchall())\n",
    "\n",
    "# Close the connection\n",
    "db_connection.close()\n"
   ]
  },
  {
   "cell_type": "markdown",
   "id": "c3aec510",
   "metadata": {},
   "source": [
    "# Question 9\n",
    "\n",
    "Suppose list words is defined as follows:  \n",
    "    >>> words = ['The', 'quick', 'brown', 'fox', 'jumps', 'over', 'the', 'lazy', 'dog']  \n",
    "Write list comprehension expressions that use list words and generate the following lists:  \n",
    "a) ['THE', 'QUICK', 'BROWN', 'FOX', 'JUMPS', 'OVER', 'THE', 'LAZY', 'DOG']  \n",
    "b) ['the', 'quick', 'brown', 'fox', 'jumps', 'over', 'the', 'lazy', 'dog']  \n",
    "c) [3, 5, 5, 3, 5, 4, 3, 4, 3] (the list of lengths of words in list words).  \n",
    "d) [['THE', 'the', 3], ['QUICK', 'quick', 5], ['BROWN','brown', 5], ['FOX', 'fox', 3], ['JUMPS', 'jumps', 5],['OVER', 'over', 4], ['THE', 'the', 3], ['LAZY', 'lazy',4], ['DOG', 'dog', 3]] (the list containing a list for every word of list words, where each list contains the word in uppercase and lowercase and the length of the word.)  \n",
    "e) ['The', 'quick', 'brown', 'fox', 'jumps', 'over', 'the', 'lazy', 'dog'] (the list of words in list words containing 4 or more \n",
    "characters.)  "
   ]
  },
  {
   "cell_type": "code",
   "execution_count": 20,
   "id": "09ec5c65",
   "metadata": {},
   "outputs": [],
   "source": [
    "words = ['The', 'quick', 'brown', 'fox', 'jumps', 'over', 'the', 'lazy', 'dog']\n"
   ]
  },
  {
   "cell_type": "code",
   "execution_count": 34,
   "id": "9ed16fad",
   "metadata": {},
   "outputs": [
    {
     "name": "stdout",
     "output_type": "stream",
     "text": [
      "['THE', 'QUICK', 'BROWN', 'FOX', 'JUMPS', 'OVER', 'THE', 'LAZY', 'DOG']\n"
     ]
    }
   ],
   "source": [
    "words_uppercase = [word.upper() for word in words]\n",
    "print(words_uppercase)"
   ]
  },
  {
   "cell_type": "code",
   "execution_count": 35,
   "id": "52331261",
   "metadata": {},
   "outputs": [
    {
     "name": "stdout",
     "output_type": "stream",
     "text": [
      "['the', 'quick', 'brown', 'fox', 'jumps', 'over', 'the', 'lazy', 'dog']\n"
     ]
    }
   ],
   "source": [
    "words_lowercase = [word.lower() for word in words]\n",
    "print(words_lowercase)"
   ]
  },
  {
   "cell_type": "code",
   "execution_count": 36,
   "id": "4e30bd11",
   "metadata": {},
   "outputs": [
    {
     "name": "stdout",
     "output_type": "stream",
     "text": [
      "[3, 5, 5, 3, 5, 4, 3, 4, 3]\n"
     ]
    }
   ],
   "source": [
    "word_lengths = [len(word) for word in words]\n",
    "print(word_lengths)"
   ]
  },
  {
   "cell_type": "code",
   "execution_count": 37,
   "id": "96c9e695",
   "metadata": {},
   "outputs": [
    {
     "name": "stdout",
     "output_type": "stream",
     "text": [
      "[['THE', 'the', 3], ['QUICK', 'quick', 5], ['BROWN', 'brown', 5], ['FOX', 'fox', 3], ['JUMPS', 'jumps', 5], ['OVER', 'over', 4], ['THE', 'the', 3], ['LAZY', 'lazy', 4], ['DOG', 'dog', 3]]\n"
     ]
    }
   ],
   "source": [
    "word_info = [[word.upper(), word.lower(), len(word)] for word in words]\n",
    "print(word_info)"
   ]
  },
  {
   "cell_type": "code",
   "execution_count": 38,
   "id": "65074118",
   "metadata": {},
   "outputs": [
    {
     "name": "stdout",
     "output_type": "stream",
     "text": [
      "['quick', 'brown', 'jumps', 'over', 'lazy']\n"
     ]
    }
   ],
   "source": [
    "words_4_or_more_chars = [word for word in words if len(word) >= 4]\n",
    "print(words_4_or_more_chars)"
   ]
  },
  {
   "cell_type": "code",
   "execution_count": null,
   "id": "2c22b2d3",
   "metadata": {},
   "outputs": [],
   "source": []
  }
 ],
 "metadata": {
  "kernelspec": {
   "display_name": "Python 3 (ipykernel)",
   "language": "python",
   "name": "python3"
  },
  "language_info": {
   "codemirror_mode": {
    "name": "ipython",
    "version": 3
   },
   "file_extension": ".py",
   "mimetype": "text/x-python",
   "name": "python",
   "nbconvert_exporter": "python",
   "pygments_lexer": "ipython3",
   "version": "3.10.9"
  }
 },
 "nbformat": 4,
 "nbformat_minor": 5
}
